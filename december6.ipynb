{
 "cells": [
  {
   "cell_type": "code",
   "execution_count": 1,
   "id": "1cc2eb78",
   "metadata": {},
   "outputs": [
    {
     "name": "stdout",
     "output_type": "stream",
     "text": [
      "second larget number is: 40\n"
     ]
    }
   ],
   "source": [
    "# printing second largest number in a list.\n",
    "\n",
    "l=[10,20,30,40,50]\n",
    "l.sort()\n",
    "print('second larget number is:',l[-2])"
   ]
  },
  {
   "cell_type": "code",
   "execution_count": 2,
   "id": "bf1bdc47",
   "metadata": {},
   "outputs": [
    {
     "name": "stdout",
     "output_type": "stream",
     "text": [
      "enter the input digits:756382\n",
      "third largest number in a digit: 3\n"
     ]
    }
   ],
   "source": [
    "# pring 3rd largest number in a given digit.\n",
    "n=input('enter the input digits:')\n",
    "l=list(n)\n",
    "print('third largest number in a digit:',l[-3])"
   ]
  },
  {
   "cell_type": "code",
   "execution_count": 5,
   "id": "f9e72daa",
   "metadata": {},
   "outputs": [
    {
     "name": "stdout",
     "output_type": "stream",
     "text": [
      "enter input:6\n",
      "1\n",
      "22\n",
      "333\n",
      "4444\n",
      "55555\n"
     ]
    }
   ],
   "source": [
    "# printing pattern using single for loop.\n",
    "n=int(input('enter input:'))\n",
    "for i in range(1,n):\n",
    "    print(i*10**i//9)"
   ]
  },
  {
   "cell_type": "code",
   "execution_count": 8,
   "id": "363ba407",
   "metadata": {},
   "outputs": [
    {
     "name": "stdout",
     "output_type": "stream",
     "text": [
      "enter input sequence:malayalam\n",
      "Given sequence is palindrom\n"
     ]
    }
   ],
   "source": [
    "# python program to check palindrom.\n",
    "seq = input('enter input sequence:')\n",
    "if (seq==seq[::-1]):\n",
    "    print('Given sequence is palindrom')\n",
    "else:\n",
    "    print('Given sequence is not a palindrome.')\n",
    "    "
   ]
  },
  {
   "cell_type": "code",
   "execution_count": 10,
   "id": "eee8a40a",
   "metadata": {},
   "outputs": [
    {
     "name": "stdout",
     "output_type": "stream",
     "text": [
      "enter year:2012\n",
      "leap year\n"
     ]
    }
   ],
   "source": [
    "# program for leap year or not\n",
    "n=int(input('enter year:'))\n",
    "if n%4==0 or n%400==0:\n",
    "    print('leap year')\n",
    "elif n%100==0:\n",
    "    print('not leap year')\n",
    "else:\n",
    "    print('not leap year')"
   ]
  },
  {
   "cell_type": "code",
   "execution_count": null,
   "id": "928e1ea7",
   "metadata": {},
   "outputs": [],
   "source": []
  }
 ],
 "metadata": {
  "kernelspec": {
   "display_name": "Python 3 (ipykernel)",
   "language": "python",
   "name": "python3"
  },
  "language_info": {
   "codemirror_mode": {
    "name": "ipython",
    "version": 3
   },
   "file_extension": ".py",
   "mimetype": "text/x-python",
   "name": "python",
   "nbconvert_exporter": "python",
   "pygments_lexer": "ipython3",
   "version": "3.10.0"
  }
 },
 "nbformat": 4,
 "nbformat_minor": 5
}
